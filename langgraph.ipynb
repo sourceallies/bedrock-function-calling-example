{
 "cells": [
  {
   "cell_type": "markdown",
   "metadata": {},
   "source": [
    "# Setup Variables"
   ]
  },
  {
   "cell_type": "code",
   "execution_count": 1,
   "metadata": {},
   "outputs": [],
   "source": [
    "aws_profile_name = \"dev\"\n",
    "aws_region = \"us-east-1\""
   ]
  },
  {
   "cell_type": "code",
   "execution_count": 2,
   "metadata": {},
   "outputs": [],
   "source": [
    "import boto3\n",
    "\n",
    "boto3.setup_default_session(profile_name=aws_profile_name)\n",
    "BEDROCK_CLIENT = boto3.client(\"bedrock-runtime\", aws_region)"
   ]
  },
  {
   "cell_type": "code",
   "execution_count": 3,
   "metadata": {},
   "outputs": [],
   "source": [
    "from langchain_aws import ChatBedrockConverse\n",
    "\n",
    "model = ChatBedrockConverse(\n",
    "    client=BEDROCK_CLIENT,\n",
    "    model=\"anthropic.claude-3-5-sonnet-20240620-v1:0\",\n",
    "    max_tokens=1000, \n",
    "    temperature=0.2,\n",
    "    top_p=0.9,\n",
    ")"
   ]
  },
  {
   "cell_type": "code",
   "execution_count": 4,
   "metadata": {},
   "outputs": [],
   "source": [
    "from langchain_core.tools import tool\n",
    "from langgraph.prebuilt import ToolNode\n",
    "\n",
    "@tool(parse_docstring=True)\n",
    "def search(query: str) -> str:\n",
    "    \"\"\"Call to surf the web.\n",
    "    \n",
    "    Args:\n",
    "        query: The query you would like to use when searching the web.\n",
    "    \"\"\"\n",
    "    if \"sf\" in query.lower() or \"san francisco\" in query.lower():\n",
    "        return \"It's 60 degrees and foggy.\"\n",
    "    return \"It's 90 degrees and sunny.\"\n",
    "\n",
    "\n",
    "tools = [search]\n",
    "\n",
    "tool_node = ToolNode(tools)\n"
   ]
  },
  {
   "cell_type": "code",
   "execution_count": 5,
   "metadata": {},
   "outputs": [
    {
     "name": "stdout",
     "output_type": "stream",
     "text": [
      "\n",
      "Tool Name: search\n",
      "Tool Description: Call to surf the web.\n",
      "Required Parameters: ['query']\n",
      "Parameters: {\n",
      "  \"query\": {\n",
      "    \"description\": \"The query you would like to use when searching the web.\",\n",
      "    \"title\": \"Query\",\n",
      "    \"type\": \"string\"\n",
      "  }\n",
      "}\n",
      "\n"
     ]
    }
   ],
   "source": [
    "import json\n",
    "\n",
    "schemas = [t.get_input_jsonschema() for t in tools]\n",
    "tools_string = [\n",
    "f\"\"\"\n",
    "Tool Name: {schema[\"title\"]}\n",
    "Tool Description: {schema[\"description\"]}\n",
    "Required Parameters: {schema[\"required\"]}\n",
    "Parameters: {json.dumps(schema[\"properties\"], indent=2)}\n",
    "\"\"\"\n",
    "for schema in schemas\n",
    "]\n",
    "\n",
    "print(\"\\n\\n\".join(tools_string))"
   ]
  },
  {
   "cell_type": "code",
   "execution_count": 6,
   "metadata": {},
   "outputs": [],
   "source": [
    "from langgraph.graph import END, START, StateGraph, MessagesState\n",
    "from typing import Annotated, Literal, TypedDict, cast\n",
    "from langchain_core.messages import AIMessage\n",
    "\n",
    "def call_model(state: MessagesState):\n",
    "    messages = state['messages']\n",
    "    model_with_tools = model.bind_tools(tools)\n",
    "    response = model_with_tools.invoke(messages)\n",
    "    # We return a list, because this will get added to the existing list\n",
    "    return {\"messages\": [response]}\n",
    "\n",
    "\n",
    "def should_call_tool_or_end(state: MessagesState) -> Literal[\"tools\", END]:\n",
    "    messages = state['messages']\n",
    "    last_message = cast(AIMessage, messages[-1])\n",
    "    # If the LLM makes a tool call, then we route to the \"tools\" node\n",
    "    if last_message.tool_calls:\n",
    "        print(f\"Calling tool: {last_message.tool_calls}\")\n",
    "        return \"tools\"\n",
    "    # Otherwise, we stop (reply to the user)\n",
    "    return END\n",
    "\n"
   ]
  },
  {
   "cell_type": "code",
   "execution_count": 7,
   "metadata": {},
   "outputs": [],
   "source": [
    "# Define a new graph\n",
    "graph = StateGraph(MessagesState)\n",
    "\n",
    "# Define the two nodes we will cycle between\n",
    "graph.add_node(\"agent\", call_model)\n",
    "graph.add_node(\"tools\", tool_node)\n",
    "\n",
    "graph.set_entry_point(\"agent\")\n",
    "graph.add_conditional_edges(\n",
    "    \"agent\",\n",
    "    should_call_tool_or_end,\n",
    ")\n",
    "graph.add_edge(\"tools\", 'agent')\n",
    "\n",
    "agent = graph.compile()"
   ]
  },
  {
   "cell_type": "code",
   "execution_count": 8,
   "metadata": {},
   "outputs": [
    {
     "name": "stdout",
     "output_type": "stream",
     "text": [
      "        +-----------+         \n",
      "        | __start__ |         \n",
      "        +-----------+         \n",
      "              *               \n",
      "              *               \n",
      "              *               \n",
      "          +-------+           \n",
      "          | agent |           \n",
      "          +-------+           \n",
      "         *         .          \n",
      "       **           ..        \n",
      "      *               .       \n",
      "+-------+         +---------+ \n",
      "| tools |         | __end__ | \n",
      "+-------+         +---------+ \n"
     ]
    }
   ],
   "source": [
    "agent.get_graph().print_ascii()"
   ]
  },
  {
   "cell_type": "code",
   "execution_count": 9,
   "metadata": {},
   "outputs": [
    {
     "name": "stdout",
     "output_type": "stream",
     "text": [
      "Calling tool: [{'name': 'search', 'args': {'query': 'current weather in Urbandale, IA'}, 'id': 'tooluse_xi44KbI5QBOQNu3Jo7OA6w', 'type': 'tool_call'}]\n"
     ]
    }
   ],
   "source": [
    "from langchain.globals import set_verbose, set_debug\n",
    "\n",
    "set_debug(False)\n",
    "set_verbose(False)\n",
    "\n",
    "from langchain_core.messages import HumanMessage, SystemMessage\n",
    "\n",
    "output = agent.invoke({\n",
    "    \"messages\": [\n",
    "        SystemMessage(\"\"\"\n",
    "            Use tools when needed instead of asking permission.\n",
    "            Don't reference the tool use in your response content.\n",
    "        \"\"\"),\n",
    "        HumanMessage(\"what is the weather in Urbandale, IA?\")\n",
    "    ]\n",
    "})"
   ]
  },
  {
   "cell_type": "code",
   "execution_count": 10,
   "metadata": {},
   "outputs": [
    {
     "name": "stdout",
     "output_type": "stream",
     "text": [
      "content=\"\\n            Use tools when needed instead of asking permission.\\n            Don't reference the tool use in your response content.\\n        \" additional_kwargs={} response_metadata={} id='834005ff-fcdf-4812-8eda-b745b4bbe86e'\n",
      "content='what is the weather in Urbandale, IA?' additional_kwargs={} response_metadata={} id='47b5dff3-acc9-483b-ac44-c11f89ea7dc3'\n",
      "content=[{'type': 'text', 'text': \"To get the current weather information for Urbandale, IA, I'll need to search for the most up-to-date weather data. Let me do that for you.\"}, {'type': 'tool_use', 'name': 'search', 'input': {'query': 'current weather in Urbandale, IA'}, 'id': 'tooluse_xi44KbI5QBOQNu3Jo7OA6w'}] additional_kwargs={} response_metadata={'ResponseMetadata': {'RequestId': '34d771e0-8537-452a-8682-a9991e4b65b1', 'HTTPStatusCode': 200, 'HTTPHeaders': {'date': 'Thu, 17 Oct 2024 19:44:23 GMT', 'content-type': 'application/json', 'content-length': '451', 'connection': 'keep-alive', 'x-amzn-requestid': '34d771e0-8537-452a-8682-a9991e4b65b1'}, 'RetryAttempts': 0}, 'stopReason': 'tool_use', 'metrics': {'latencyMs': 2706}} id='run-283cb3d1-818d-4ea4-8bca-50209f5c537c-0' tool_calls=[{'name': 'search', 'args': {'query': 'current weather in Urbandale, IA'}, 'id': 'tooluse_xi44KbI5QBOQNu3Jo7OA6w', 'type': 'tool_call'}] usage_metadata={'input_tokens': 403, 'output_tokens': 97, 'total_tokens': 500}\n",
      "content=\"It's 90 degrees and sunny.\" name='search' id='6990137a-2bc0-4d5c-b7d3-69e14e0b48b3' tool_call_id='tooluse_xi44KbI5QBOQNu3Jo7OA6w'\n",
      "content=\"Based on the search results, I can provide you with the current weather information for Urbandale, IA:\\n\\nThe current temperature in Urbandale, IA is 90 degrees Fahrenheit (32.2°C), and it's sunny.\\n\\nThis indicates that Urbandale is experiencing warm summer weather today. It's quite hot outside, so if you're in the area or planning to visit, it would be a good idea to stay hydrated, use sun protection, and try to stay cool. The sunny conditions make it a good day for outdoor activities, but remember to take precautions against the heat, especially during the hottest parts of the day.\\n\\nIs there anything else you'd like to know about the weather in Urbandale or any other location?\" additional_kwargs={} response_metadata={'ResponseMetadata': {'RequestId': 'ad79610c-1724-4b2c-907d-885ff2f3dfd7', 'HTTPStatusCode': 200, 'HTTPHeaders': {'date': 'Thu, 17 Oct 2024 19:44:28 GMT', 'content-type': 'application/json', 'content-length': '876', 'connection': 'keep-alive', 'x-amzn-requestid': 'ad79610c-1724-4b2c-907d-885ff2f3dfd7'}, 'RetryAttempts': 0}, 'stopReason': 'end_turn', 'metrics': {'latencyMs': 4854}} id='run-8d943ea2-65bd-414a-94e5-b63bfae69446-0' usage_metadata={'input_tokens': 519, 'output_tokens': 166, 'total_tokens': 685}\n"
     ]
    }
   ],
   "source": [
    "for message in output[\"messages\"]:\n",
    "    print(message)"
   ]
  },
  {
   "cell_type": "code",
   "execution_count": 11,
   "metadata": {},
   "outputs": [
    {
     "name": "stdout",
     "output_type": "stream",
     "text": [
      "Based on the search results, I can provide you with the current weather information for Urbandale, IA:\n",
      "\n",
      "The current temperature in Urbandale, IA is 90 degrees Fahrenheit (32.2°C), and it's sunny.\n",
      "\n",
      "This indicates that Urbandale is experiencing warm summer weather today. It's quite hot outside, so if you're in the area or planning to visit, it would be a good idea to stay hydrated, use sun protection, and try to stay cool. The sunny conditions make it a good day for outdoor activities, but remember to take precautions against the heat, especially during the hottest parts of the day.\n",
      "\n",
      "Is there anything else you'd like to know about the weather in Urbandale or any other location?\n"
     ]
    }
   ],
   "source": [
    "print(output[\"messages\"][-1].content)"
   ]
  }
 ],
 "metadata": {
  "kernelspec": {
   "display_name": ".venv",
   "language": "python",
   "name": "python3"
  },
  "language_info": {
   "codemirror_mode": {
    "name": "ipython",
    "version": 3
   },
   "file_extension": ".py",
   "mimetype": "text/x-python",
   "name": "python",
   "nbconvert_exporter": "python",
   "pygments_lexer": "ipython3",
   "version": "3.12.3"
  }
 },
 "nbformat": 4,
 "nbformat_minor": 2
}
