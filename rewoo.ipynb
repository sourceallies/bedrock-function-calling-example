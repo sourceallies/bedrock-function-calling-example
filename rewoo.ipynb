{
 "cells": [
  {
   "cell_type": "markdown",
   "metadata": {},
   "source": [
    "# Setup Variables"
   ]
  },
  {
   "cell_type": "code",
   "execution_count": 1,
   "metadata": {},
   "outputs": [],
   "source": [
    "aws_profile_name = \"dev\"\n",
    "aws_region = \"us-east-1\""
   ]
  },
  {
   "cell_type": "code",
   "execution_count": 2,
   "metadata": {},
   "outputs": [],
   "source": [
    "import boto3\n",
    "\n",
    "boto3.setup_default_session(profile_name=aws_profile_name)\n",
    "BEDROCK_CLIENT = boto3.client(\"bedrock-runtime\", aws_region)"
   ]
  },
  {
   "cell_type": "code",
   "execution_count": 3,
   "metadata": {},
   "outputs": [],
   "source": [
    "from langchain_aws import ChatBedrockConverse\n",
    "\n",
    "model = ChatBedrockConverse(\n",
    "    client=BEDROCK_CLIENT,\n",
    "    model=\"anthropic.claude-3-5-sonnet-20240620-v1:0\",\n",
    "    max_tokens=1000, \n",
    "    temperature=0.2,\n",
    "    top_p=0.9,\n",
    ")"
   ]
  },
  {
   "cell_type": "code",
   "execution_count": 4,
   "metadata": {},
   "outputs": [],
   "source": [
    "from typing import Callable\n",
    "from langchain_core.tools import tool\n",
    "from langgraph.prebuilt import ToolNode\n",
    "\n",
    "@tool(parse_docstring=True)\n",
    "def search(query: str) -> str:\n",
    "    \"\"\"Call to surf the web.\n",
    "    \n",
    "    Args:\n",
    "        query: The query you would like to use when searching the web.\n",
    "    \"\"\"\n",
    "    if \"sf\" in query.lower() or \"san francisco\" in query.lower():\n",
    "        return \"It's 60 degrees and foggy.\"\n",
    "    return \"It's 90 degrees and sunny.\"\n",
    "\n",
    "\n",
    "tools: list[Callable] = [search]\n",
    "\n",
    "# tool_node = ToolNode(tools)\n"
   ]
  },
  {
   "cell_type": "code",
   "execution_count": 17,
   "metadata": {},
   "outputs": [
    {
     "name": "stdout",
     "output_type": "stream",
     "text": [
      "\n",
      "Tool Name: search\n",
      "Tool Description: Call to surf the web.\n",
      "Required Parameters: ['query']\n",
      "Parameters: {\n",
      "  \"query\": {\n",
      "    \"description\": \"The query you would like to use when searching the web.\",\n",
      "    \"title\": \"Query\",\n",
      "    \"type\": \"string\"\n",
      "  }\n",
      "}\n",
      "\n"
     ]
    }
   ],
   "source": [
    "# import json\n",
    "\n",
    "# schemas = [t.get_input_jsonschema() for t in tools]\n",
    "# tools_string = [\n",
    "# f\"\"\"\n",
    "# Tool Name: {schema[\"title\"]}\n",
    "# Tool Description: {schema[\"description\"]}\n",
    "# Required Parameters: {schema[\"required\"]}\n",
    "# Parameters: {json.dumps(schema[\"properties\"], indent=2)}\n",
    "# \"\"\"\n",
    "# for schema in schemas\n",
    "# ]\n",
    "\n",
    "# print(\"\\n\\n\".join(tools_string))"
   ]
  },
  {
   "cell_type": "code",
   "execution_count": 5,
   "metadata": {},
   "outputs": [],
   "source": [
    "\n",
    "from typing import Any, Dict, List, Optional, Union, cast\n",
    "from pydantic import BaseModel, Field\n",
    "from langchain_core.output_parsers.pydantic import PydanticOutputParser\n",
    "\n",
    "class Step(BaseModel):\n",
    "    id: int = Field(description=\"Unique identifier for the step. IDs must be unique and in order.\")\n",
    "    summary: str = Field(description=\"Summary of the step in plain english for a human to read.\")\n",
    "    tool_name: str = Field(description=\"Name of the tool to be used in this step.\")\n",
    "    tool_input: str = Field(description=\"Input to the tool.\")\n",
    "    tool_output: Union[None, str, Dict[str, Any]] = Field(None, description=\"Output from the tool, can be null, a string, or an object with unknown properties. Default is null.\")\n",
    "\n",
    "\n",
    "class Plan(BaseModel):\n",
    "    summary: str = Field(description=\"A summary of your plan in plain english for a human to read.\")\n",
    "    steps: List[Step] = Field(description=\"An ordered list of Step objects to complete the task.\")\n",
    "\n",
    "plan_parser = PydanticOutputParser(pydantic_object=Plan)"
   ]
  },
  {
   "cell_type": "code",
   "execution_count": 51,
   "metadata": {},
   "outputs": [
    {
     "name": "stdout",
     "output_type": "stream",
     "text": [
      "The output should be formatted as a JSON instance that conforms to the JSON schema below.\n",
      "\n",
      "As an example, for the schema {\"properties\": {\"foo\": {\"title\": \"Foo\", \"description\": \"a list of strings\", \"type\": \"array\", \"items\": {\"type\": \"string\"}}}, \"required\": [\"foo\"]}\n",
      "the object {\"foo\": [\"bar\", \"baz\"]} is a well-formatted instance of the schema. The object {\"properties\": {\"foo\": [\"bar\", \"baz\"]}} is not well-formatted.\n",
      "\n",
      "Here is the output schema:\n",
      "```\n",
      "{\"$defs\": {\"Step\": {\"properties\": {\"id\": {\"description\": \"Unique identifier for the step. IDs must be unique and in order.\", \"title\": \"Id\", \"type\": \"integer\"}, \"summary\": {\"description\": \"Summary of the step in plain english for a human to read.\", \"title\": \"Summary\", \"type\": \"string\"}, \"tool_name\": {\"description\": \"Name of the tool to be used in this step.\", \"title\": \"Tool Name\", \"type\": \"string\"}, \"tool_input\": {\"description\": \"Input to the tool.\", \"title\": \"Tool Input\", \"type\": \"string\"}, \"tool_output\": {\"anyOf\": [{\"type\": \"string\"}, {\"type\": \"object\"}, {\"type\": \"null\"}], \"default\": null, \"description\": \"Output from the tool, can be null, a string, or an object with unknown properties. Default is null.\", \"title\": \"Tool Output\"}}, \"required\": [\"id\", \"summary\", \"tool_name\", \"tool_input\"], \"title\": \"Step\", \"type\": \"object\"}}, \"properties\": {\"summary\": {\"description\": \"A summary of your plan in plain english for a human to read.\", \"title\": \"Summary\", \"type\": \"string\"}, \"steps\": {\"description\": \"An ordered list of Step objects to complete the task.\", \"items\": {\"$ref\": \"#/$defs/Step\"}, \"title\": \"Steps\", \"type\": \"array\"}}, \"required\": [\"summary\", \"steps\"]}\n",
      "```\n"
     ]
    }
   ],
   "source": [
    "print(plan_parser.get_format_instructions())"
   ]
  },
  {
   "cell_type": "code",
   "execution_count": 19,
   "metadata": {},
   "outputs": [
    {
     "name": "stdout",
     "output_type": "stream",
     "text": [
      "{\n",
      "  \"$defs\": {\n",
      "    \"Step\": {\n",
      "      \"properties\": {\n",
      "        \"id\": {\n",
      "          \"description\": \"Unique identifier for the step. IDs must be unique and in order.\",\n",
      "          \"title\": \"Id\",\n",
      "          \"type\": \"integer\"\n",
      "        },\n",
      "        \"summary\": {\n",
      "          \"description\": \"Summary of the step in plain english for a human to read.\",\n",
      "          \"title\": \"Summary\",\n",
      "          \"type\": \"string\"\n",
      "        },\n",
      "        \"tool_name\": {\n",
      "          \"description\": \"Name of the tool to be used in this step.\",\n",
      "          \"title\": \"Tool Name\",\n",
      "          \"type\": \"string\"\n",
      "        },\n",
      "        \"tool_input\": {\n",
      "          \"description\": \"Input to the tool.\",\n",
      "          \"title\": \"Tool Input\",\n",
      "          \"type\": \"string\"\n",
      "        },\n",
      "        \"tool_output\": {\n",
      "          \"anyOf\": [\n",
      "            {\n",
      "              \"type\": \"string\"\n",
      "            },\n",
      "            {\n",
      "              \"type\": \"object\"\n",
      "            },\n",
      "            {\n",
      "              \"type\": \"null\"\n",
      "            }\n",
      "          ],\n",
      "          \"default\": null,\n",
      "          \"description\": \"Output from the tool, can be null, a string, or an object with unknown properties. Default is null.\",\n",
      "          \"title\": \"Tool Output\"\n",
      "        }\n",
      "      },\n",
      "      \"required\": [\n",
      "        \"id\",\n",
      "        \"summary\",\n",
      "        \"tool_name\",\n",
      "        \"tool_input\"\n",
      "      ],\n",
      "      \"title\": \"Step\",\n",
      "      \"type\": \"object\"\n",
      "    }\n",
      "  },\n",
      "  \"properties\": {\n",
      "    \"summary\": {\n",
      "      \"description\": \"A summary of your plan in plain english for a human to read.\",\n",
      "      \"title\": \"Summary\",\n",
      "      \"type\": \"string\"\n",
      "    },\n",
      "    \"steps\": {\n",
      "      \"description\": \"An ordered list of Step objects to complete the task.\",\n",
      "      \"items\": {\n",
      "        \"$ref\": \"#/$defs/Step\"\n",
      "      },\n",
      "      \"title\": \"Steps\",\n",
      "      \"type\": \"array\"\n",
      "    }\n",
      "  },\n",
      "  \"required\": [\n",
      "    \"summary\",\n",
      "    \"steps\"\n",
      "  ],\n",
      "  \"title\": \"Plan\",\n",
      "  \"type\": \"object\"\n",
      "}\n"
     ]
    }
   ],
   "source": [
    "# import json\n",
    "# print(json.dumps(Plan.model_json_schema(), indent=2))"
   ]
  },
  {
   "cell_type": "code",
   "execution_count": 73,
   "metadata": {},
   "outputs": [],
   "source": [
    "planning_prompt = f\"\"\"\n",
    "A human is going to provide you with a task or message, make plans that can solve their problem step by step.\n",
    "\n",
    "{plan_parser.get_format_instructions().replace(\"{\",\"{{{{\").replace(\"}\",\"}}}}\")},\n",
    "\n",
    "When creating the plans, if you need something from a previous step you can reference it directly using '[stepId]'.\n",
    "For example, if you need the output from step 1, you can reference it as '[1]'. If you need the output from step 2, you can reference it as '[2]', and so on.\n",
    "\n",
    "For each plan, indicate which external tool together with tool input to retrieve evidence. You do not have to use any tools if you do not need to.\n",
    "Make sure the plan is optimized and as few of steps as required to perform the given task.\n",
    "You also have access to the history of the conversation with the user to help you plan effectively.\n",
    "\n",
    "Here are some examples of the JSON schema with the user input and the task to be completed including available tools:\n",
    "<examples>\n",
    "Input: Who is likely to win the next U.S. presidential election?\n",
    "Output Plan:\n",
    "{{{{\n",
    "  'summary': 'We need to search the web for presidential election news.',\n",
    "  'steps': [\n",
    "    {{{{\n",
    "      'id': 1,\n",
    "      'summary': 'Search the web for presidential election news.',\n",
    "      'tool_name': 'search',\n",
    "      'tool_input': 'Latest presidential election news',\n",
    "      'tool_output': null\n",
    "    }}}}\n",
    "  ]\n",
    "}}}}\n",
    "\n",
    "Input: 5x + 3 = 18, solve for x.\n",
    "Output Plan:\n",
    "{{{{\n",
    "  'summary': 'Solve the equation 5x + 3 = 18 for x, we do not need any tools for this task.',\n",
    "  'steps': []\n",
    "}}}}\n",
    "</examples>\n",
    "\n",
    "Make sure to follow the schema strictly and provide the plan in the correct format. \n",
    "You will only respond with valid JSON.\n",
    "Do not include any additional information or text in the response as it will be considered as an invalid response and you will be asked to provide the answer again.\n",
    "You will never change the user's task or provide an answer to the task.\n",
    "You will only provide a plan to solve the task.\n",
    "\"\"\".strip()\n",
    "\n",
    "solve_prompt = \"\"\"\n",
    "Solve the following task or problem.\n",
    "To solve the problem, we have made step-by-step Plan and retrieved corresponding output for each step.\n",
    "Use them with caution since long output might contain irrelevant information.\n",
    "\n",
    "<plan>\n",
    "{plan}\n",
    "</plan>\n",
    "\n",
    "Now solve the question or task according to provided plan and output above.\n",
    "Respond with the answer directly with no extra words.\n",
    "If you don't know the answer, don't make something up,just tell what information you need to solve the problem or answer the message.\n",
    "\"\"\".strip()"
   ]
  },
  {
   "cell_type": "code",
   "execution_count": 7,
   "metadata": {},
   "outputs": [],
   "source": [
    "from langchain_core.prompts import ChatPromptTemplate\n",
    "from langchain_core.messages import HumanMessage, SystemMessage\n",
    "\n",
    "prompt = ChatPromptTemplate.from_messages([\n",
    "    ('system', planning_prompt),\n",
    "    ('human', \"What is the weather in Urbandale, IA?\")\n",
    "])\n",
    "planning_chain = prompt | model.bind_tools(tools) | plan_parser"
   ]
  },
  {
   "cell_type": "code",
   "execution_count": 8,
   "metadata": {},
   "outputs": [],
   "source": [
    "plan_output: Plan = planning_chain.invoke({})"
   ]
  },
  {
   "cell_type": "code",
   "execution_count": 9,
   "metadata": {},
   "outputs": [
    {
     "name": "stdout",
     "output_type": "stream",
     "text": [
      "{\n",
      "  \"summary\": \"To find out the weather in Urbandale, IA, we need to search the web for current weather information.\",\n",
      "  \"steps\": [\n",
      "    {\n",
      "      \"id\": 1,\n",
      "      \"summary\": \"Search the web for current weather in Urbandale, IA.\",\n",
      "      \"tool_name\": \"search\",\n",
      "      \"tool_input\": \"Current weather Urbandale, IA\",\n",
      "      \"tool_output\": null\n",
      "    }\n",
      "  ]\n",
      "}\n"
     ]
    }
   ],
   "source": [
    "print(plan_output.model_dump_json(indent=2))"
   ]
  },
  {
   "cell_type": "code",
   "execution_count": 74,
   "metadata": {},
   "outputs": [],
   "source": [
    "from langgraph.graph import END, START, StateGraph, MessagesState\n",
    "from typing import Annotated, Literal, TypedDict, cast\n",
    "from langchain_core.messages import AIMessage\n",
    "from langchain_core.output_parsers.string import StrOutputParser\n",
    "import re\n",
    "\n",
    "class RewooState(MessagesState):\n",
    "    plan: Plan\n",
    "    result: str\n",
    "    \n",
    "def create_plan(state: RewooState):\n",
    "    print(\"Planning\")\n",
    "    print(state)\n",
    "    prompt = ChatPromptTemplate.from_messages([\n",
    "        ('system', planning_prompt),\n",
    "        *state['messages']\n",
    "    ])\n",
    "    planning_chain = prompt | model.bind_tools(tools) | PydanticOutputParser(pydantic_object=Plan)\n",
    "    plan: Plan = planning_chain.invoke({})\n",
    "    print(plan)\n",
    "    return {\"plan\": plan}\n",
    "\n",
    "\n",
    "def call_tool(state: RewooState):\n",
    "    print(\"Calling Tool?\")\n",
    "    print(state)\n",
    "    current_step = next((step for step in state['plan'].steps if step.tool_output is None), None)\n",
    "    if current_step:\n",
    "        tool = next(tool for tool in tools if tool.name == current_step.tool_name)\n",
    "        \n",
    "        def get_tool_output(match_obj):\n",
    "            return str(next((step for step in state['plan'].steps if step.id == match_obj.group(1))))\n",
    "        current_step.tool_input = re.sub(r\"\\[(\\d+)\\]\",get_tool_output, current_step.tool_input)\n",
    "        current_step.tool_output = tool(current_step.tool_input)    \n",
    "    return state\n",
    "\n",
    "def solve(state: RewooState):\n",
    "    print(\"Solving\")\n",
    "    print(state)\n",
    "    prompt = ChatPromptTemplate.from_messages([\n",
    "        ('system', solve_prompt),\n",
    "        *state[\"messages\"]\n",
    "    ])\n",
    "    solve_chain = prompt | model | StrOutputParser()\n",
    "    result = solve_chain.invoke(state)\n",
    "    return {\"result\": result}\n",
    "\n",
    "def should_call_tool_or_end(state: RewooState) -> Literal[\"tools\", 'solve']:\n",
    "    remaining_steps = [step for step in state['plan'].steps if step.tool_output is None]\n",
    "    return 'tools' if remaining_steps else 'solve'\n",
    "\n"
   ]
  },
  {
   "cell_type": "code",
   "execution_count": 70,
   "metadata": {},
   "outputs": [],
   "source": [
    "from langgraph.graph import END, START, StateGraph, MessagesState\n",
    "\n",
    "# Define a new graph\n",
    "graph = StateGraph(RewooState)\n",
    "\n",
    "graph.add_node(\"create_plan\", create_plan)\n",
    "graph.add_node(\"tools\", call_tool)\n",
    "graph.add_node(\"solve\", solve)\n",
    "\n",
    "graph.set_entry_point(\"create_plan\")\n",
    "graph.add_edge(\"create_plan\", \"tools\")\n",
    "graph.add_conditional_edges(\n",
    "    \"tools\",\n",
    "    should_call_tool_or_end,\n",
    ")\n",
    "graph.set_finish_point(\"solve\")\n",
    "# graph.add_edge(\"tools\", 'solve')\n",
    "\n",
    "agent = graph.compile()"
   ]
  },
  {
   "cell_type": "code",
   "execution_count": 75,
   "metadata": {},
   "outputs": [
    {
     "name": "stdout",
     "output_type": "stream",
     "text": [
      "summary='To find out the weather in Urbandale, IA, we need to search the web for current weather information.' steps=[Step(id=1, summary='Search the web for current weather in Urbandale, IA.', tool_name='search', tool_input='current weather Urbandale IA', tool_output=None)]\n",
      "Calling Tool?\n",
      "{'messages': [HumanMessage(content='what is the weather in Urbandale, IA?', additional_kwargs={}, response_metadata={}, id='2b229b19-ebf8-4248-b85e-3af60d040e95')], 'plan': Plan(summary='To find out the weather in Urbandale, IA, we need to search the web for current weather information.', steps=[Step(id=1, summary='Search the web for current weather in Urbandale, IA.', tool_name='search', tool_input='current weather Urbandale IA', tool_output=None)])}\n",
      "Solving\n",
      "{'messages': [HumanMessage(content='what is the weather in Urbandale, IA?', additional_kwargs={}, response_metadata={}, id='2b229b19-ebf8-4248-b85e-3af60d040e95')], 'plan': Plan(summary='To find out the weather in Urbandale, IA, we need to search the web for current weather information.', steps=[Step(id=1, summary='Search the web for current weather in Urbandale, IA.', tool_name='search', tool_input='current weather Urbandale IA', tool_output=\"It's 90 degrees and sunny.\")])}\n"
     ]
    }
   ],
   "source": [
    "from langchain.globals import set_verbose, set_debug\n",
    "\n",
    "set_debug(False)\n",
    "set_verbose(False)\n",
    "\n",
    "from langchain_core.messages import HumanMessage, SystemMessage\n",
    "\n",
    "output = agent.invoke({\n",
    "    \"messages\": [\n",
    "        HumanMessage(\"what is the weather in Urbandale, IA?\")\n",
    "    ]\n",
    "})"
   ]
  },
  {
   "cell_type": "code",
   "execution_count": 76,
   "metadata": {},
   "outputs": [
    {
     "name": "stdout",
     "output_type": "stream",
     "text": [
      "90 degrees and sunny.\n"
     ]
    }
   ],
   "source": [
    "print(output[\"result\"])"
   ]
  }
 ],
 "metadata": {
  "kernelspec": {
   "display_name": ".venv",
   "language": "python",
   "name": "python3"
  },
  "language_info": {
   "codemirror_mode": {
    "name": "ipython",
    "version": 3
   },
   "file_extension": ".py",
   "mimetype": "text/x-python",
   "name": "python",
   "nbconvert_exporter": "python",
   "pygments_lexer": "ipython3",
   "version": "3.12.3"
  }
 },
 "nbformat": 4,
 "nbformat_minor": 2
}
