{
 "cells": [
  {
   "cell_type": "markdown",
   "metadata": {},
   "source": [
    "# Setup Variables\n"
   ]
  },
  {
   "cell_type": "code",
   "execution_count": 1,
   "metadata": {},
   "outputs": [],
   "source": [
    "aws_profile_name = \"dev\"\n",
    "aws_region = \"us-east-1\""
   ]
  },
  {
   "cell_type": "code",
   "execution_count": 2,
   "metadata": {},
   "outputs": [],
   "source": [
    "from langchain.globals import set_verbose, set_debug\n",
    "\n",
    "set_debug(False)\n",
    "set_verbose(False)"
   ]
  },
  {
   "cell_type": "markdown",
   "metadata": {},
   "source": [
    "# Setup AWS Bedrock Model\n"
   ]
  },
  {
   "cell_type": "code",
   "execution_count": 3,
   "metadata": {},
   "outputs": [],
   "source": [
    "import boto3\n",
    "from langchain_aws import ChatBedrockConverse\n",
    "\n",
    "boto3.setup_default_session(profile_name=aws_profile_name)\n",
    "BEDROCK_CLIENT = boto3.client(\"bedrock-runtime\", aws_region)\n",
    "model = ChatBedrockConverse(\n",
    "    client=BEDROCK_CLIENT,\n",
    "    model=\"anthropic.claude-3-5-sonnet-20240620-v1:0\",\n",
    "    max_tokens=1000,\n",
    "    temperature=0.2,\n",
    "    top_p=0.9,\n",
    ")"
   ]
  },
  {
   "cell_type": "markdown",
   "metadata": {},
   "source": [
    "# Define Our Tools\n"
   ]
  },
  {
   "cell_type": "markdown",
   "metadata": {},
   "source": [
    "## Get Teammates By Name\n",
    "\n",
    "Go to our \"api\" to get all teammates that have similar names. In this case, our API is actually just a JSON file we read in at runtime.\n"
   ]
  },
  {
   "cell_type": "code",
   "execution_count": 4,
   "metadata": {},
   "outputs": [],
   "source": [
    "from langchain_core.tools import tool\n",
    "from pydantic import BaseModel, TypeAdapter\n",
    "\n",
    "\n",
    "class Teammate(BaseModel):\n",
    "    id: int\n",
    "    name: str\n",
    "    favorite_color: str\n",
    "\n",
    "\n",
    "@tool(parse_docstring=True)\n",
    "def get_teammates_by_name(search_str: str) -> list[Teammate]:\n",
    "    \"\"\"Call to an API to get teammate details searching by their name.\n",
    "\n",
    "    Args:\n",
    "        search_str: The search string used to look for a teammate.\n",
    "            This can be a partial string and will return all teammates\n",
    "            who contain this search string as a substring, case insensitive.\n",
    "\n",
    "    Returns:\n",
    "        list[Teammate]: A list of any teammates with names containing the search string.\n",
    "    \"\"\"\n",
    "    with open(\"data/teammates.json\", \"r\") as file:\n",
    "        teammates = TypeAdapter(list[Teammate]).validate_json(file.read())\n",
    "    return [\n",
    "        teammate\n",
    "        for teammate in teammates\n",
    "        if search_str.lower() in teammate.name.lower()\n",
    "    ]"
   ]
  },
  {
   "cell_type": "markdown",
   "metadata": {},
   "source": [
    "## Consolidate All Our Tools\n"
   ]
  },
  {
   "cell_type": "code",
   "execution_count": 5,
   "metadata": {},
   "outputs": [],
   "source": [
    "from langchain_core.tools import StructuredTool\n",
    "from typing import cast\n",
    "\n",
    "tools = cast(list[StructuredTool], [get_teammates_by_name])"
   ]
  },
  {
   "cell_type": "markdown",
   "metadata": {},
   "source": [
    "# Assembling our Graph\n"
   ]
  },
  {
   "cell_type": "markdown",
   "metadata": {},
   "source": [
    "Overall we will want our final graph to do these things:\n",
    "\n",
    "1. Pass in the user's questions\n",
    "2. Continue to call tools as long as the LLM thinks it will be helpful\n",
    "3. Respond with the LLM output once it is done calling tools\n"
   ]
  },
  {
   "cell_type": "markdown",
   "metadata": {},
   "source": [
    "## First, State Definition and Some Helper Methods\n",
    "\n",
    "This defines what state we will be passing around our graph every time we need to execute or make a decision of where to go next.\n",
    "\n",
    "In this case, we simply want to use the built in `MessagesState`, so nothing custom is needed.\n"
   ]
  },
  {
   "cell_type": "markdown",
   "metadata": {},
   "source": [
    "## Now the Exectuion Methods. These will make our graph `nodes`.\n",
    "\n",
    "All of these methods will receive our graph state and return and object that will be merged with our graph state. This can just be our modified full state again if that is easier.\n",
    "\n",
    "If returning an object with an list, it adds the new values to the list instead of replacing.\n"
   ]
  },
  {
   "cell_type": "code",
   "execution_count": 6,
   "metadata": {},
   "outputs": [],
   "source": [
    "from langgraph.graph import StateGraph, MessagesState\n",
    "from langchain_core.prompts import ChatPromptTemplate\n",
    "from langgraph.prebuilt import ToolNode\n",
    "\n",
    "\n",
    "def call_model(state: MessagesState):\n",
    "    print(\"Calling Model\")\n",
    "    print(state)\n",
    "    prompt = ChatPromptTemplate.from_messages(\n",
    "        [\n",
    "            (\n",
    "                \"system\",\n",
    "                \"\"\"\n",
    "            Use tools when needed instead of asking permission.\n",
    "            Don't reference the tool use in your response content.\n",
    "        \"\"\",\n",
    "            ),\n",
    "            *state[\"messages\"],\n",
    "        ]\n",
    "    )\n",
    "    chain = prompt | model.bind_tools(tools)\n",
    "    response = chain.invoke({})\n",
    "    return {\"messages\": [response]}\n",
    "\n",
    "\n",
    "tool_node = ToolNode(tools)"
   ]
  },
  {
   "cell_type": "markdown",
   "metadata": {},
   "source": [
    "## Now Decision Making/Routing Methods. These will make our graph `edges`.\n",
    "\n",
    "All of these methods will receive our graph state object and return a string that represents the next node that should be executed.\n",
    "\n",
    "Routing methods are only needed when there is a `conditional` routing event. Some events you will see later on are simply hard coded since they always follow each other.\n"
   ]
  },
  {
   "cell_type": "code",
   "execution_count": 7,
   "metadata": {},
   "outputs": [],
   "source": [
    "from langgraph.graph import END, MessagesState\n",
    "from typing import Literal, cast\n",
    "import json\n",
    "from langchain_core.messages import AIMessage\n",
    "\n",
    "\n",
    "def should_call_tool_or_end(state: MessagesState):\n",
    "    last_message = cast(AIMessage, state[\"messages\"][-1])\n",
    "    if last_message.tool_calls:\n",
    "        print(f\"Calling tool(s): {json.dumps(last_message.tool_calls, indent=2)}\")\n",
    "        return tool_node.name\n",
    "    return END"
   ]
  },
  {
   "cell_type": "markdown",
   "metadata": {},
   "source": [
    "## Now we put it all together!\n"
   ]
  },
  {
   "cell_type": "code",
   "execution_count": 8,
   "metadata": {},
   "outputs": [
    {
     "name": "stdout",
     "output_type": "stream",
     "text": [
      "        +-----------+         \n",
      "        | __start__ |         \n",
      "        +-----------+         \n",
      "              *               \n",
      "              *               \n",
      "              *               \n",
      "       +------------+         \n",
      "       | call_model |         \n",
      "       +------------+         \n",
      "         *         .          \n",
      "       **           ..        \n",
      "      *               .       \n",
      "+-------+         +---------+ \n",
      "| tools |         | __end__ | \n",
      "+-------+         +---------+ \n"
     ]
    }
   ],
   "source": [
    "graph = StateGraph(MessagesState)\n",
    "\n",
    "# definitions\n",
    "graph.add_node(call_model)\n",
    "graph.add_node(tool_node)\n",
    "\n",
    "# navigation\n",
    "graph.set_entry_point(call_model.__name__)\n",
    "graph.add_conditional_edges(\n",
    "    call_model.__name__,\n",
    "    should_call_tool_or_end,\n",
    ")\n",
    "graph.add_edge(tool_node.name, call_model.__name__)\n",
    "\n",
    "agent = graph.compile()\n",
    "agent.get_graph().print_ascii()"
   ]
  },
  {
   "cell_type": "markdown",
   "metadata": {},
   "source": [
    "# Now that we have our agent assembled, we just need to seed it with some messages and get back results!\n"
   ]
  },
  {
   "cell_type": "code",
   "execution_count": 9,
   "metadata": {},
   "outputs": [
    {
     "name": "stdout",
     "output_type": "stream",
     "text": [
      "Calling Model\n",
      "{'messages': [HumanMessage(content='Do Matt and Grey have the same favorite color?', additional_kwargs={}, response_metadata={}, id='35c587bb-0cc5-43cd-8578-8e11c6b05aa2')]}\n",
      "Calling tool(s): [\n",
      "  {\n",
      "    \"name\": \"get_teammates_by_name\",\n",
      "    \"args\": {\n",
      "      \"search_str\": \"Matt\"\n",
      "    },\n",
      "    \"id\": \"tooluse_5NaVLwieQ9eOCmx-Nr1Nlw\",\n",
      "    \"type\": \"tool_call\"\n",
      "  }\n",
      "]\n",
      "Calling Model\n",
      "{'messages': [HumanMessage(content='Do Matt and Grey have the same favorite color?', additional_kwargs={}, response_metadata={}, id='35c587bb-0cc5-43cd-8578-8e11c6b05aa2'), AIMessage(content=[{'type': 'text', 'text': \"To answer this question, I'll need to look up information about Matt and Grey using the available tool. Let me do that for you.\"}, {'type': 'tool_use', 'name': 'get_teammates_by_name', 'input': {'search_str': 'Matt'}, 'id': 'tooluse_5NaVLwieQ9eOCmx-Nr1Nlw'}], additional_kwargs={}, response_metadata={'ResponseMetadata': {'RequestId': '3e1a9a8d-7e5d-4475-8c36-f241a91a894f', 'HTTPStatusCode': 200, 'HTTPHeaders': {'date': 'Thu, 24 Oct 2024 18:21:02 GMT', 'content-type': 'application/json', 'content-length': '431', 'connection': 'keep-alive', 'x-amzn-requestid': '3e1a9a8d-7e5d-4475-8c36-f241a91a894f'}, 'RetryAttempts': 0}, 'stopReason': 'tool_use', 'metrics': {'latencyMs': 2337}}, id='run-7607c81f-5624-46ce-ab42-2926fe7470db-0', tool_calls=[{'name': 'get_teammates_by_name', 'args': {'search_str': 'Matt'}, 'id': 'tooluse_5NaVLwieQ9eOCmx-Nr1Nlw', 'type': 'tool_call'}], usage_metadata={'input_tokens': 441, 'output_tokens': 88, 'total_tokens': 529}), ToolMessage(content=\"[Teammate(id=4, name='Matt Vincent', favorite_color='green')]\", name='get_teammates_by_name', id='bfd0dff2-ec94-45e9-b487-3cf899658ae7', tool_call_id='tooluse_5NaVLwieQ9eOCmx-Nr1Nlw')]}\n",
      "Calling tool(s): [\n",
      "  {\n",
      "    \"name\": \"get_teammates_by_name\",\n",
      "    \"args\": {\n",
      "      \"search_str\": \"Grey\"\n",
      "    },\n",
      "    \"id\": \"tooluse_IhsiUethQ8SLbk1HpuFSLQ\",\n",
      "    \"type\": \"tool_call\"\n",
      "  }\n",
      "]\n",
      "Calling Model\n",
      "{'messages': [HumanMessage(content='Do Matt and Grey have the same favorite color?', additional_kwargs={}, response_metadata={}, id='35c587bb-0cc5-43cd-8578-8e11c6b05aa2'), AIMessage(content=[{'type': 'text', 'text': \"To answer this question, I'll need to look up information about Matt and Grey using the available tool. Let me do that for you.\"}, {'type': 'tool_use', 'name': 'get_teammates_by_name', 'input': {'search_str': 'Matt'}, 'id': 'tooluse_5NaVLwieQ9eOCmx-Nr1Nlw'}], additional_kwargs={}, response_metadata={'ResponseMetadata': {'RequestId': '3e1a9a8d-7e5d-4475-8c36-f241a91a894f', 'HTTPStatusCode': 200, 'HTTPHeaders': {'date': 'Thu, 24 Oct 2024 18:21:02 GMT', 'content-type': 'application/json', 'content-length': '431', 'connection': 'keep-alive', 'x-amzn-requestid': '3e1a9a8d-7e5d-4475-8c36-f241a91a894f'}, 'RetryAttempts': 0}, 'stopReason': 'tool_use', 'metrics': {'latencyMs': 2337}}, id='run-7607c81f-5624-46ce-ab42-2926fe7470db-0', tool_calls=[{'name': 'get_teammates_by_name', 'args': {'search_str': 'Matt'}, 'id': 'tooluse_5NaVLwieQ9eOCmx-Nr1Nlw', 'type': 'tool_call'}], usage_metadata={'input_tokens': 441, 'output_tokens': 88, 'total_tokens': 529}), ToolMessage(content=\"[Teammate(id=4, name='Matt Vincent', favorite_color='green')]\", name='get_teammates_by_name', id='bfd0dff2-ec94-45e9-b487-3cf899658ae7', tool_call_id='tooluse_5NaVLwieQ9eOCmx-Nr1Nlw'), AIMessage(content=[{'type': 'text', 'text': 'Now, let me look up information about Grey.'}, {'type': 'tool_use', 'name': 'get_teammates_by_name', 'input': {'search_str': 'Grey'}, 'id': 'tooluse_IhsiUethQ8SLbk1HpuFSLQ'}], additional_kwargs={}, response_metadata={'ResponseMetadata': {'RequestId': 'e0ed2413-d2ea-4508-a213-df4e3505a83a', 'HTTPStatusCode': 200, 'HTTPHeaders': {'date': 'Thu, 24 Oct 2024 18:21:04 GMT', 'content-type': 'application/json', 'content-length': '347', 'connection': 'keep-alive', 'x-amzn-requestid': 'e0ed2413-d2ea-4508-a213-df4e3505a83a'}, 'RetryAttempts': 0}, 'stopReason': 'tool_use', 'metrics': {'latencyMs': 1990}}, id='run-7ddcb920-8357-4e1d-9f52-26c33bdc993e-0', tool_calls=[{'name': 'get_teammates_by_name', 'args': {'search_str': 'Grey'}, 'id': 'tooluse_IhsiUethQ8SLbk1HpuFSLQ', 'type': 'tool_call'}], usage_metadata={'input_tokens': 558, 'output_tokens': 71, 'total_tokens': 629}), ToolMessage(content=\"[Teammate(id=1, name='Grey Lovelace', favorite_color='purple')]\", name='get_teammates_by_name', id='318999a2-eabb-4d07-adc5-a3fa3ffc0943', tool_call_id='tooluse_IhsiUethQ8SLbk1HpuFSLQ')]}\n"
     ]
    }
   ],
   "source": [
    "from langchain_core.messages import HumanMessage\n",
    "\n",
    "output = agent.invoke(\n",
    "    {\"messages\": [HumanMessage(\"Do Matt and Grey have the same favorite color?\")]}\n",
    ")"
   ]
  },
  {
   "cell_type": "markdown",
   "metadata": {},
   "source": [
    "## The Final Answer\n"
   ]
  },
  {
   "cell_type": "code",
   "execution_count": 10,
   "metadata": {},
   "outputs": [
    {
     "name": "stdout",
     "output_type": "stream",
     "text": [
      "Based on the information I've gathered:\n",
      "\n",
      "1. Matt Vincent's favorite color is green.\n",
      "2. Grey Lovelace's favorite color is purple.\n",
      "\n",
      "To answer your question: No, Matt and Grey do not have the same favorite color. Matt's favorite color is green, while Grey's favorite color is purple.\n"
     ]
    }
   ],
   "source": [
    "print(output[\"messages\"][-1].content)"
   ]
  },
  {
   "cell_type": "markdown",
   "metadata": {},
   "source": [
    "## Message Details\n"
   ]
  },
  {
   "cell_type": "code",
   "execution_count": 11,
   "metadata": {},
   "outputs": [
    {
     "name": "stdout",
     "output_type": "stream",
     "text": [
      "{\n",
      "  \"content\": \"Do Matt and Grey have the same favorite color?\",\n",
      "  \"additional_kwargs\": {},\n",
      "  \"response_metadata\": {},\n",
      "  \"type\": \"human\",\n",
      "  \"name\": null,\n",
      "  \"id\": \"35c587bb-0cc5-43cd-8578-8e11c6b05aa2\",\n",
      "  \"example\": false\n",
      "}\n",
      "{\n",
      "  \"content\": [\n",
      "    {\n",
      "      \"type\": \"text\",\n",
      "      \"text\": \"To answer this question, I'll need to look up information about Matt and Grey using the available tool. Let me do that for you.\"\n",
      "    },\n",
      "    {\n",
      "      \"type\": \"tool_use\",\n",
      "      \"name\": \"get_teammates_by_name\",\n",
      "      \"input\": {\n",
      "        \"search_str\": \"Matt\"\n",
      "      },\n",
      "      \"id\": \"tooluse_5NaVLwieQ9eOCmx-Nr1Nlw\"\n",
      "    }\n",
      "  ],\n",
      "  \"additional_kwargs\": {},\n",
      "  \"response_metadata\": {\n",
      "    \"ResponseMetadata\": {\n",
      "      \"RequestId\": \"3e1a9a8d-7e5d-4475-8c36-f241a91a894f\",\n",
      "      \"HTTPStatusCode\": 200,\n",
      "      \"HTTPHeaders\": {\n",
      "        \"date\": \"Thu, 24 Oct 2024 18:21:02 GMT\",\n",
      "        \"content-type\": \"application/json\",\n",
      "        \"content-length\": \"431\",\n",
      "        \"connection\": \"keep-alive\",\n",
      "        \"x-amzn-requestid\": \"3e1a9a8d-7e5d-4475-8c36-f241a91a894f\"\n",
      "      },\n",
      "      \"RetryAttempts\": 0\n",
      "    },\n",
      "    \"stopReason\": \"tool_use\",\n",
      "    \"metrics\": {\n",
      "      \"latencyMs\": 2337\n",
      "    }\n",
      "  },\n",
      "  \"type\": \"ai\",\n",
      "  \"name\": null,\n",
      "  \"id\": \"run-7607c81f-5624-46ce-ab42-2926fe7470db-0\",\n",
      "  \"example\": false,\n",
      "  \"tool_calls\": [\n",
      "    {\n",
      "      \"name\": \"get_teammates_by_name\",\n",
      "      \"args\": {\n",
      "        \"search_str\": \"Matt\"\n",
      "      },\n",
      "      \"id\": \"tooluse_5NaVLwieQ9eOCmx-Nr1Nlw\",\n",
      "      \"type\": \"tool_call\"\n",
      "    }\n",
      "  ],\n",
      "  \"invalid_tool_calls\": [],\n",
      "  \"usage_metadata\": {\n",
      "    \"input_tokens\": 441,\n",
      "    \"output_tokens\": 88,\n",
      "    \"total_tokens\": 529\n",
      "  }\n",
      "}\n",
      "{\n",
      "  \"content\": \"[Teammate(id=4, name='Matt Vincent', favorite_color='green')]\",\n",
      "  \"additional_kwargs\": {},\n",
      "  \"response_metadata\": {},\n",
      "  \"type\": \"tool\",\n",
      "  \"name\": \"get_teammates_by_name\",\n",
      "  \"id\": \"bfd0dff2-ec94-45e9-b487-3cf899658ae7\",\n",
      "  \"tool_call_id\": \"tooluse_5NaVLwieQ9eOCmx-Nr1Nlw\",\n",
      "  \"artifact\": null,\n",
      "  \"status\": \"success\"\n",
      "}\n",
      "{\n",
      "  \"content\": [\n",
      "    {\n",
      "      \"type\": \"text\",\n",
      "      \"text\": \"Now, let me look up information about Grey.\"\n",
      "    },\n",
      "    {\n",
      "      \"type\": \"tool_use\",\n",
      "      \"name\": \"get_teammates_by_name\",\n",
      "      \"input\": {\n",
      "        \"search_str\": \"Grey\"\n",
      "      },\n",
      "      \"id\": \"tooluse_IhsiUethQ8SLbk1HpuFSLQ\"\n",
      "    }\n",
      "  ],\n",
      "  \"additional_kwargs\": {},\n",
      "  \"response_metadata\": {\n",
      "    \"ResponseMetadata\": {\n",
      "      \"RequestId\": \"e0ed2413-d2ea-4508-a213-df4e3505a83a\",\n",
      "      \"HTTPStatusCode\": 200,\n",
      "      \"HTTPHeaders\": {\n",
      "        \"date\": \"Thu, 24 Oct 2024 18:21:04 GMT\",\n",
      "        \"content-type\": \"application/json\",\n",
      "        \"content-length\": \"347\",\n",
      "        \"connection\": \"keep-alive\",\n",
      "        \"x-amzn-requestid\": \"e0ed2413-d2ea-4508-a213-df4e3505a83a\"\n",
      "      },\n",
      "      \"RetryAttempts\": 0\n",
      "    },\n",
      "    \"stopReason\": \"tool_use\",\n",
      "    \"metrics\": {\n",
      "      \"latencyMs\": 1990\n",
      "    }\n",
      "  },\n",
      "  \"type\": \"ai\",\n",
      "  \"name\": null,\n",
      "  \"id\": \"run-7ddcb920-8357-4e1d-9f52-26c33bdc993e-0\",\n",
      "  \"example\": false,\n",
      "  \"tool_calls\": [\n",
      "    {\n",
      "      \"name\": \"get_teammates_by_name\",\n",
      "      \"args\": {\n",
      "        \"search_str\": \"Grey\"\n",
      "      },\n",
      "      \"id\": \"tooluse_IhsiUethQ8SLbk1HpuFSLQ\",\n",
      "      \"type\": \"tool_call\"\n",
      "    }\n",
      "  ],\n",
      "  \"invalid_tool_calls\": [],\n",
      "  \"usage_metadata\": {\n",
      "    \"input_tokens\": 558,\n",
      "    \"output_tokens\": 71,\n",
      "    \"total_tokens\": 629\n",
      "  }\n",
      "}\n",
      "{\n",
      "  \"content\": \"[Teammate(id=1, name='Grey Lovelace', favorite_color='purple')]\",\n",
      "  \"additional_kwargs\": {},\n",
      "  \"response_metadata\": {},\n",
      "  \"type\": \"tool\",\n",
      "  \"name\": \"get_teammates_by_name\",\n",
      "  \"id\": \"318999a2-eabb-4d07-adc5-a3fa3ffc0943\",\n",
      "  \"tool_call_id\": \"tooluse_IhsiUethQ8SLbk1HpuFSLQ\",\n",
      "  \"artifact\": null,\n",
      "  \"status\": \"success\"\n",
      "}\n",
      "{\n",
      "  \"content\": \"Based on the information I've gathered:\\n\\n1. Matt Vincent's favorite color is green.\\n2. Grey Lovelace's favorite color is purple.\\n\\nTo answer your question: No, Matt and Grey do not have the same favorite color. Matt's favorite color is green, while Grey's favorite color is purple.\",\n",
      "  \"additional_kwargs\": {},\n",
      "  \"response_metadata\": {\n",
      "    \"ResponseMetadata\": {\n",
      "      \"RequestId\": \"2e1ae0a1-2179-490a-a842-8c3d87dfc95f\",\n",
      "      \"HTTPStatusCode\": 200,\n",
      "      \"HTTPHeaders\": {\n",
      "        \"date\": \"Thu, 24 Oct 2024 18:21:06 GMT\",\n",
      "        \"content-type\": \"application/json\",\n",
      "        \"content-length\": \"469\",\n",
      "        \"connection\": \"keep-alive\",\n",
      "        \"x-amzn-requestid\": \"2e1ae0a1-2179-490a-a842-8c3d87dfc95f\"\n",
      "      },\n",
      "      \"RetryAttempts\": 0\n",
      "    },\n",
      "    \"stopReason\": \"end_turn\",\n",
      "    \"metrics\": {\n",
      "      \"latencyMs\": 1878\n",
      "    }\n",
      "  },\n",
      "  \"type\": \"ai\",\n",
      "  \"name\": null,\n",
      "  \"id\": \"run-98154a26-9bd4-4a78-a03e-bda0367ee1eb-0\",\n",
      "  \"example\": false,\n",
      "  \"tool_calls\": [],\n",
      "  \"invalid_tool_calls\": [],\n",
      "  \"usage_metadata\": {\n",
      "    \"input_tokens\": 661,\n",
      "    \"output_tokens\": 71,\n",
      "    \"total_tokens\": 732\n",
      "  }\n",
      "}\n"
     ]
    }
   ],
   "source": [
    "import json\n",
    "\n",
    "for message in output[\"messages\"]:\n",
    "    print(json.dumps(message, indent=2, default=lambda x: x.dict()))"
   ]
  }
 ],
 "metadata": {
  "kernelspec": {
   "display_name": ".venv",
   "language": "python",
   "name": "python3"
  },
  "language_info": {
   "codemirror_mode": {
    "name": "ipython",
    "version": 3
   },
   "file_extension": ".py",
   "mimetype": "text/x-python",
   "name": "python",
   "nbconvert_exporter": "python",
   "pygments_lexer": "ipython3",
   "version": "3.12.3"
  }
 },
 "nbformat": 4,
 "nbformat_minor": 2
}
